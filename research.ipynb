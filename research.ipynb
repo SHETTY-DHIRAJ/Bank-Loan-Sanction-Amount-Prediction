{
 "cells": [
  {
   "cell_type": "code",
   "execution_count": 1,
   "id": "f96b6f24",
   "metadata": {},
   "outputs": [],
   "source": [
    "import pandas as pd\n",
    "import numpy as np\n",
    "import matplotlib.pyplot as plt\n",
    "import seaborn as sns\n",
    "%matplotlib inline"
   ]
  },
  {
   "cell_type": "code",
   "execution_count": 2,
   "id": "32167b41",
   "metadata": {},
   "outputs": [],
   "source": [
    "df = pd.read_csv(\"classified-data.csv\")"
   ]
  },
  {
   "cell_type": "code",
   "execution_count": 3,
   "id": "164af60d",
   "metadata": {},
   "outputs": [
    {
     "data": {
      "text/html": [
       "<div>\n",
       "<style scoped>\n",
       "    .dataframe tbody tr th:only-of-type {\n",
       "        vertical-align: middle;\n",
       "    }\n",
       "\n",
       "    .dataframe tbody tr th {\n",
       "        vertical-align: top;\n",
       "    }\n",
       "\n",
       "    .dataframe thead th {\n",
       "        text-align: right;\n",
       "    }\n",
       "</style>\n",
       "<table border=\"1\" class=\"dataframe\">\n",
       "  <thead>\n",
       "    <tr style=\"text-align: right;\">\n",
       "      <th></th>\n",
       "      <th>Customer ID</th>\n",
       "      <th>Name</th>\n",
       "      <th>Gender</th>\n",
       "      <th>Age</th>\n",
       "      <th>Income (USD)</th>\n",
       "      <th>Income Stability</th>\n",
       "      <th>Profession</th>\n",
       "      <th>Type of Employment</th>\n",
       "      <th>Location</th>\n",
       "      <th>Loan Amount Request (USD)</th>\n",
       "      <th>...</th>\n",
       "      <th>Credit Score</th>\n",
       "      <th>No. of Defaults</th>\n",
       "      <th>Has Active Credit Card</th>\n",
       "      <th>Property ID</th>\n",
       "      <th>Property Age</th>\n",
       "      <th>Property Type</th>\n",
       "      <th>Property Location</th>\n",
       "      <th>Co-Applicant</th>\n",
       "      <th>Property Price</th>\n",
       "      <th>Loan Sanction Amount (USD)</th>\n",
       "    </tr>\n",
       "  </thead>\n",
       "  <tbody>\n",
       "    <tr>\n",
       "      <th>0</th>\n",
       "      <td>C-36995</td>\n",
       "      <td>Frederica Shealy</td>\n",
       "      <td>F</td>\n",
       "      <td>56</td>\n",
       "      <td>1933.05</td>\n",
       "      <td>Low</td>\n",
       "      <td>Working</td>\n",
       "      <td>Sales staff</td>\n",
       "      <td>Semi-Urban</td>\n",
       "      <td>72809.58</td>\n",
       "      <td>...</td>\n",
       "      <td>809.44</td>\n",
       "      <td>0</td>\n",
       "      <td>NaN</td>\n",
       "      <td>746</td>\n",
       "      <td>1933.05</td>\n",
       "      <td>4</td>\n",
       "      <td>Rural</td>\n",
       "      <td>1</td>\n",
       "      <td>119933.46</td>\n",
       "      <td>54607.18</td>\n",
       "    </tr>\n",
       "    <tr>\n",
       "      <th>1</th>\n",
       "      <td>C-33999</td>\n",
       "      <td>America Calderone</td>\n",
       "      <td>M</td>\n",
       "      <td>32</td>\n",
       "      <td>4952.91</td>\n",
       "      <td>Low</td>\n",
       "      <td>Working</td>\n",
       "      <td>NaN</td>\n",
       "      <td>Semi-Urban</td>\n",
       "      <td>46837.47</td>\n",
       "      <td>...</td>\n",
       "      <td>780.40</td>\n",
       "      <td>0</td>\n",
       "      <td>Unpossessed</td>\n",
       "      <td>608</td>\n",
       "      <td>4952.91</td>\n",
       "      <td>2</td>\n",
       "      <td>Rural</td>\n",
       "      <td>1</td>\n",
       "      <td>54791.00</td>\n",
       "      <td>37469.98</td>\n",
       "    </tr>\n",
       "    <tr>\n",
       "      <th>2</th>\n",
       "      <td>C-3770</td>\n",
       "      <td>Rosetta Verne</td>\n",
       "      <td>F</td>\n",
       "      <td>65</td>\n",
       "      <td>988.19</td>\n",
       "      <td>High</td>\n",
       "      <td>Pensioner</td>\n",
       "      <td>NaN</td>\n",
       "      <td>Semi-Urban</td>\n",
       "      <td>45593.04</td>\n",
       "      <td>...</td>\n",
       "      <td>833.15</td>\n",
       "      <td>0</td>\n",
       "      <td>Unpossessed</td>\n",
       "      <td>546</td>\n",
       "      <td>988.19</td>\n",
       "      <td>2</td>\n",
       "      <td>Urban</td>\n",
       "      <td>0</td>\n",
       "      <td>72440.58</td>\n",
       "      <td>36474.43</td>\n",
       "    </tr>\n",
       "    <tr>\n",
       "      <th>3</th>\n",
       "      <td>C-26480</td>\n",
       "      <td>Zoe Chitty</td>\n",
       "      <td>F</td>\n",
       "      <td>65</td>\n",
       "      <td>NaN</td>\n",
       "      <td>High</td>\n",
       "      <td>Pensioner</td>\n",
       "      <td>NaN</td>\n",
       "      <td>Rural</td>\n",
       "      <td>80057.92</td>\n",
       "      <td>...</td>\n",
       "      <td>832.70</td>\n",
       "      <td>1</td>\n",
       "      <td>Unpossessed</td>\n",
       "      <td>890</td>\n",
       "      <td>NaN</td>\n",
       "      <td>2</td>\n",
       "      <td>Semi-Urban</td>\n",
       "      <td>1</td>\n",
       "      <td>121441.51</td>\n",
       "      <td>56040.54</td>\n",
       "    </tr>\n",
       "    <tr>\n",
       "      <th>4</th>\n",
       "      <td>C-23459</td>\n",
       "      <td>Afton Venema</td>\n",
       "      <td>F</td>\n",
       "      <td>31</td>\n",
       "      <td>2614.77</td>\n",
       "      <td>Low</td>\n",
       "      <td>Working</td>\n",
       "      <td>High skill tech staff</td>\n",
       "      <td>Semi-Urban</td>\n",
       "      <td>113858.89</td>\n",
       "      <td>...</td>\n",
       "      <td>745.55</td>\n",
       "      <td>1</td>\n",
       "      <td>Active</td>\n",
       "      <td>715</td>\n",
       "      <td>2614.77</td>\n",
       "      <td>4</td>\n",
       "      <td>Semi-Urban</td>\n",
       "      <td>1</td>\n",
       "      <td>208567.91</td>\n",
       "      <td>74008.28</td>\n",
       "    </tr>\n",
       "  </tbody>\n",
       "</table>\n",
       "<p>5 rows × 24 columns</p>\n",
       "</div>"
      ],
      "text/plain": [
       "  Customer ID               Name Gender  Age  Income (USD) Income Stability  \\\n",
       "0     C-36995   Frederica Shealy      F   56       1933.05              Low   \n",
       "1     C-33999  America Calderone      M   32       4952.91              Low   \n",
       "2      C-3770      Rosetta Verne      F   65        988.19             High   \n",
       "3     C-26480         Zoe Chitty      F   65           NaN             High   \n",
       "4     C-23459       Afton Venema      F   31       2614.77              Low   \n",
       "\n",
       "  Profession     Type of Employment    Location  Loan Amount Request (USD)  \\\n",
       "0    Working            Sales staff  Semi-Urban                   72809.58   \n",
       "1    Working                    NaN  Semi-Urban                   46837.47   \n",
       "2  Pensioner                    NaN  Semi-Urban                   45593.04   \n",
       "3  Pensioner                    NaN       Rural                   80057.92   \n",
       "4    Working  High skill tech staff  Semi-Urban                  113858.89   \n",
       "\n",
       "   ...  Credit Score No. of Defaults Has Active Credit Card  Property ID  \\\n",
       "0  ...        809.44               0                    NaN          746   \n",
       "1  ...        780.40               0            Unpossessed          608   \n",
       "2  ...        833.15               0            Unpossessed          546   \n",
       "3  ...        832.70               1            Unpossessed          890   \n",
       "4  ...        745.55               1                 Active          715   \n",
       "\n",
       "   Property Age  Property Type Property Location  Co-Applicant  \\\n",
       "0       1933.05              4             Rural             1   \n",
       "1       4952.91              2             Rural             1   \n",
       "2        988.19              2             Urban             0   \n",
       "3           NaN              2        Semi-Urban             1   \n",
       "4       2614.77              4        Semi-Urban             1   \n",
       "\n",
       "   Property Price  Loan Sanction Amount (USD)  \n",
       "0       119933.46                    54607.18  \n",
       "1        54791.00                    37469.98  \n",
       "2        72440.58                    36474.43  \n",
       "3       121441.51                    56040.54  \n",
       "4       208567.91                    74008.28  \n",
       "\n",
       "[5 rows x 24 columns]"
      ]
     },
     "execution_count": 3,
     "metadata": {},
     "output_type": "execute_result"
    }
   ],
   "source": [
    "df.head()"
   ]
  },
  {
   "cell_type": "code",
   "execution_count": 4,
   "id": "08a8ba3f",
   "metadata": {},
   "outputs": [
    {
     "data": {
      "text/html": [
       "<div>\n",
       "<style scoped>\n",
       "    .dataframe tbody tr th:only-of-type {\n",
       "        vertical-align: middle;\n",
       "    }\n",
       "\n",
       "    .dataframe tbody tr th {\n",
       "        vertical-align: top;\n",
       "    }\n",
       "\n",
       "    .dataframe thead th {\n",
       "        text-align: right;\n",
       "    }\n",
       "</style>\n",
       "<table border=\"1\" class=\"dataframe\">\n",
       "  <thead>\n",
       "    <tr style=\"text-align: right;\">\n",
       "      <th></th>\n",
       "      <th>Age</th>\n",
       "      <th>Income (USD)</th>\n",
       "      <th>Loan Amount Request (USD)</th>\n",
       "      <th>Current Loan Expenses (USD)</th>\n",
       "      <th>Dependents</th>\n",
       "      <th>Credit Score</th>\n",
       "      <th>No. of Defaults</th>\n",
       "      <th>Property ID</th>\n",
       "      <th>Property Age</th>\n",
       "      <th>Property Type</th>\n",
       "      <th>Co-Applicant</th>\n",
       "      <th>Property Price</th>\n",
       "      <th>Loan Sanction Amount (USD)</th>\n",
       "    </tr>\n",
       "  </thead>\n",
       "  <tbody>\n",
       "    <tr>\n",
       "      <th>count</th>\n",
       "      <td>30000.000000</td>\n",
       "      <td>2.542400e+04</td>\n",
       "      <td>30000.000000</td>\n",
       "      <td>29828.000000</td>\n",
       "      <td>27507.000000</td>\n",
       "      <td>28297.000000</td>\n",
       "      <td>30000.000000</td>\n",
       "      <td>30000.000000</td>\n",
       "      <td>2.515000e+04</td>\n",
       "      <td>30000.000000</td>\n",
       "      <td>30000.000000</td>\n",
       "      <td>3.000000e+04</td>\n",
       "      <td>29660.000000</td>\n",
       "    </tr>\n",
       "    <tr>\n",
       "      <th>mean</th>\n",
       "      <td>40.092300</td>\n",
       "      <td>2.630574e+03</td>\n",
       "      <td>88826.333855</td>\n",
       "      <td>400.936876</td>\n",
       "      <td>2.253027</td>\n",
       "      <td>739.885381</td>\n",
       "      <td>0.193933</td>\n",
       "      <td>501.934700</td>\n",
       "      <td>2.631119e+03</td>\n",
       "      <td>2.460067</td>\n",
       "      <td>-4.743867</td>\n",
       "      <td>1.317597e+05</td>\n",
       "      <td>47649.342208</td>\n",
       "    </tr>\n",
       "    <tr>\n",
       "      <th>std</th>\n",
       "      <td>16.045129</td>\n",
       "      <td>1.126272e+04</td>\n",
       "      <td>59536.949605</td>\n",
       "      <td>242.545375</td>\n",
       "      <td>0.951162</td>\n",
       "      <td>72.163846</td>\n",
       "      <td>0.395384</td>\n",
       "      <td>288.158086</td>\n",
       "      <td>1.132268e+04</td>\n",
       "      <td>1.118562</td>\n",
       "      <td>74.614593</td>\n",
       "      <td>9.354955e+04</td>\n",
       "      <td>48221.146686</td>\n",
       "    </tr>\n",
       "    <tr>\n",
       "      <th>min</th>\n",
       "      <td>18.000000</td>\n",
       "      <td>3.777000e+02</td>\n",
       "      <td>6048.240000</td>\n",
       "      <td>-999.000000</td>\n",
       "      <td>1.000000</td>\n",
       "      <td>580.000000</td>\n",
       "      <td>0.000000</td>\n",
       "      <td>1.000000</td>\n",
       "      <td>3.777000e+02</td>\n",
       "      <td>1.000000</td>\n",
       "      <td>-999.000000</td>\n",
       "      <td>-9.990000e+02</td>\n",
       "      <td>-999.000000</td>\n",
       "    </tr>\n",
       "    <tr>\n",
       "      <th>25%</th>\n",
       "      <td>25.000000</td>\n",
       "      <td>1.650457e+03</td>\n",
       "      <td>41177.755000</td>\n",
       "      <td>247.667500</td>\n",
       "      <td>2.000000</td>\n",
       "      <td>681.880000</td>\n",
       "      <td>0.000000</td>\n",
       "      <td>251.000000</td>\n",
       "      <td>1.650450e+03</td>\n",
       "      <td>1.000000</td>\n",
       "      <td>1.000000</td>\n",
       "      <td>6.057216e+04</td>\n",
       "      <td>0.000000</td>\n",
       "    </tr>\n",
       "    <tr>\n",
       "      <th>50%</th>\n",
       "      <td>40.000000</td>\n",
       "      <td>2.222435e+03</td>\n",
       "      <td>75128.075000</td>\n",
       "      <td>375.205000</td>\n",
       "      <td>2.000000</td>\n",
       "      <td>739.820000</td>\n",
       "      <td>0.000000</td>\n",
       "      <td>504.000000</td>\n",
       "      <td>2.223250e+03</td>\n",
       "      <td>2.000000</td>\n",
       "      <td>1.000000</td>\n",
       "      <td>1.099936e+05</td>\n",
       "      <td>35209.395000</td>\n",
       "    </tr>\n",
       "    <tr>\n",
       "      <th>75%</th>\n",
       "      <td>55.000000</td>\n",
       "      <td>3.090593e+03</td>\n",
       "      <td>119964.605000</td>\n",
       "      <td>521.292500</td>\n",
       "      <td>3.000000</td>\n",
       "      <td>799.120000</td>\n",
       "      <td>0.000000</td>\n",
       "      <td>751.000000</td>\n",
       "      <td>3.091408e+03</td>\n",
       "      <td>3.000000</td>\n",
       "      <td>1.000000</td>\n",
       "      <td>1.788807e+05</td>\n",
       "      <td>74261.250000</td>\n",
       "    </tr>\n",
       "    <tr>\n",
       "      <th>max</th>\n",
       "      <td>65.000000</td>\n",
       "      <td>1.777460e+06</td>\n",
       "      <td>621497.820000</td>\n",
       "      <td>3840.880000</td>\n",
       "      <td>14.000000</td>\n",
       "      <td>896.260000</td>\n",
       "      <td>1.000000</td>\n",
       "      <td>999.000000</td>\n",
       "      <td>1.777460e+06</td>\n",
       "      <td>4.000000</td>\n",
       "      <td>1.000000</td>\n",
       "      <td>1.077967e+06</td>\n",
       "      <td>481907.320000</td>\n",
       "    </tr>\n",
       "  </tbody>\n",
       "</table>\n",
       "</div>"
      ],
      "text/plain": [
       "                Age  Income (USD)  Loan Amount Request (USD)  \\\n",
       "count  30000.000000  2.542400e+04               30000.000000   \n",
       "mean      40.092300  2.630574e+03               88826.333855   \n",
       "std       16.045129  1.126272e+04               59536.949605   \n",
       "min       18.000000  3.777000e+02                6048.240000   \n",
       "25%       25.000000  1.650457e+03               41177.755000   \n",
       "50%       40.000000  2.222435e+03               75128.075000   \n",
       "75%       55.000000  3.090593e+03              119964.605000   \n",
       "max       65.000000  1.777460e+06              621497.820000   \n",
       "\n",
       "       Current Loan Expenses (USD)    Dependents  Credit Score  \\\n",
       "count                 29828.000000  27507.000000  28297.000000   \n",
       "mean                    400.936876      2.253027    739.885381   \n",
       "std                     242.545375      0.951162     72.163846   \n",
       "min                    -999.000000      1.000000    580.000000   \n",
       "25%                     247.667500      2.000000    681.880000   \n",
       "50%                     375.205000      2.000000    739.820000   \n",
       "75%                     521.292500      3.000000    799.120000   \n",
       "max                    3840.880000     14.000000    896.260000   \n",
       "\n",
       "       No. of Defaults   Property ID  Property Age  Property Type  \\\n",
       "count     30000.000000  30000.000000  2.515000e+04   30000.000000   \n",
       "mean          0.193933    501.934700  2.631119e+03       2.460067   \n",
       "std           0.395384    288.158086  1.132268e+04       1.118562   \n",
       "min           0.000000      1.000000  3.777000e+02       1.000000   \n",
       "25%           0.000000    251.000000  1.650450e+03       1.000000   \n",
       "50%           0.000000    504.000000  2.223250e+03       2.000000   \n",
       "75%           0.000000    751.000000  3.091408e+03       3.000000   \n",
       "max           1.000000    999.000000  1.777460e+06       4.000000   \n",
       "\n",
       "       Co-Applicant  Property Price  Loan Sanction Amount (USD)  \n",
       "count  30000.000000    3.000000e+04                29660.000000  \n",
       "mean      -4.743867    1.317597e+05                47649.342208  \n",
       "std       74.614593    9.354955e+04                48221.146686  \n",
       "min     -999.000000   -9.990000e+02                 -999.000000  \n",
       "25%        1.000000    6.057216e+04                    0.000000  \n",
       "50%        1.000000    1.099936e+05                35209.395000  \n",
       "75%        1.000000    1.788807e+05                74261.250000  \n",
       "max        1.000000    1.077967e+06               481907.320000  "
      ]
     },
     "execution_count": 4,
     "metadata": {},
     "output_type": "execute_result"
    }
   ],
   "source": [
    "df.describe()"
   ]
  },
  {
   "cell_type": "code",
   "execution_count": 5,
   "id": "03db706c",
   "metadata": {},
   "outputs": [
    {
     "name": "stdout",
     "output_type": "stream",
     "text": [
      "<class 'pandas.core.frame.DataFrame'>\n",
      "RangeIndex: 30000 entries, 0 to 29999\n",
      "Data columns (total 24 columns):\n",
      " #   Column                       Non-Null Count  Dtype  \n",
      "---  ------                       --------------  -----  \n",
      " 0   Customer ID                  30000 non-null  object \n",
      " 1   Name                         30000 non-null  object \n",
      " 2   Gender                       29947 non-null  object \n",
      " 3   Age                          30000 non-null  int64  \n",
      " 4   Income (USD)                 25424 non-null  float64\n",
      " 5   Income Stability             28317 non-null  object \n",
      " 6   Profession                   30000 non-null  object \n",
      " 7   Type of Employment           22730 non-null  object \n",
      " 8   Location                     30000 non-null  object \n",
      " 9   Loan Amount Request (USD)    30000 non-null  float64\n",
      " 10  Current Loan Expenses (USD)  29828 non-null  float64\n",
      " 11  Expense Type 1               30000 non-null  object \n",
      " 12  Expense Type 2               30000 non-null  object \n",
      " 13  Dependents                   27507 non-null  float64\n",
      " 14  Credit Score                 28297 non-null  float64\n",
      " 15  No. of Defaults              30000 non-null  int64  \n",
      " 16  Has Active Credit Card       28434 non-null  object \n",
      " 17  Property ID                  30000 non-null  int64  \n",
      " 18  Property Age                 25150 non-null  float64\n",
      " 19  Property Type                30000 non-null  int64  \n",
      " 20  Property Location            29644 non-null  object \n",
      " 21  Co-Applicant                 30000 non-null  int64  \n",
      " 22  Property Price               30000 non-null  float64\n",
      " 23  Loan Sanction Amount (USD)   29660 non-null  float64\n",
      "dtypes: float64(8), int64(5), object(11)\n",
      "memory usage: 5.5+ MB\n"
     ]
    }
   ],
   "source": [
    "df.info()"
   ]
  },
  {
   "cell_type": "code",
   "execution_count": 6,
   "id": "f42a3552",
   "metadata": {},
   "outputs": [
    {
     "data": {
      "text/plain": [
       "25062"
      ]
     },
     "execution_count": 6,
     "metadata": {},
     "output_type": "execute_result"
    }
   ],
   "source": [
    "df.isnull().sum().sum()      #Total number of null values in df before cleaning"
   ]
  },
  {
   "cell_type": "markdown",
   "id": "dc951e7f",
   "metadata": {},
   "source": [
    "# Exploratory Data Analysis"
   ]
  },
  {
   "cell_type": "markdown",
   "id": "012e3526",
   "metadata": {},
   "source": [
    "# Data Cleaning 1"
   ]
  },
  {
   "cell_type": "code",
   "execution_count": 7,
   "id": "9ed27d05",
   "metadata": {},
   "outputs": [],
   "source": [
    "df.drop(['Customer ID','Name','Property ID','Expense Type 1','Expense Type 2','Property Age'], axis=1, inplace=True)"
   ]
  },
  {
   "cell_type": "code",
   "execution_count": 8,
   "id": "968ec743",
   "metadata": {},
   "outputs": [],
   "source": [
    "df['Current Loan Expenses (USD)'] = df['Current Loan Expenses (USD)'].replace(to_replace=-999,value=np.nan)"
   ]
  },
  {
   "cell_type": "code",
   "execution_count": 9,
   "id": "9781f252",
   "metadata": {},
   "outputs": [],
   "source": [
    "df['Co-Applicant'] = df['Co-Applicant'].replace(to_replace=-999,value=0)"
   ]
  },
  {
   "cell_type": "markdown",
   "id": "203ceb88",
   "metadata": {},
   "source": [
    "# Plot 1"
   ]
  },
  {
   "cell_type": "code",
   "execution_count": 10,
   "id": "15a59b04",
   "metadata": {},
   "outputs": [
    {
     "data": {
      "text/plain": [
       "<AxesSubplot:>"
      ]
     },
     "execution_count": 10,
     "metadata": {},
     "output_type": "execute_result"
    },
    {
     "data": {
      "image/png": "[encoded data removed]",
      "text/plain": [
       "<Figure size 864x864 with 2 Axes>"
      ]
     },
     "metadata": {
      "needs_background": "light"
     },
     "output_type": "display_data"
    }
   ],
   "source": [
    "plt.figure(figsize = (12,12))\n",
    "sns.heatmap(df.isnull(), cmap='viridis')"
   ]
  },
  {
   "cell_type": "markdown",
   "id": "ffbcdd4b",
   "metadata": {},
   "source": [
    "# Plot 2"
   ]
  },
  {
   "cell_type": "code",
   "execution_count": 11,
   "id": "5b7e2b10",
   "metadata": {},
   "outputs": [
    {
     "data": {
      "text/plain": [
       "<AxesSubplot:xlabel='Income Stability', ylabel='Age'>"
      ]
     },
     "execution_count": 11,
     "metadata": {},
     "output_type": "execute_result"
    },
    {
     "data": {
      "image/png": "[encoded data removed]",
      "text/plain": [
       "<Figure size 432x288 with 1 Axes>"
      ]
     },
     "metadata": {
      "needs_background": "light"
     },
     "output_type": "display_data"
    }
   ],
   "source": [
    "sns.boxplot(x='Income Stability',y='Age',data=df)"
   ]
  },
  {
   "cell_type": "markdown",
   "id": "984273ea",
   "metadata": {},
   "source": [
    "# Data Cleaning 2"
   ]
  },
  {
   "cell_type": "code",
   "execution_count": 12,
   "id": "5cf0bee6",
   "metadata": {},
   "outputs": [],
   "source": [
    "def impute_Stability(cols):\n",
    "        IncomeStability= cols[0]\n",
    "        Age= cols[1]\n",
    "        if pd.isnull(IncomeStability):\n",
    "            if Age>60:\n",
    "                return 'High'\n",
    "            else:\n",
    "                return 'Low'\n",
    "        else:\n",
    "            return IncomeStability"
   ]
  },
  {
   "cell_type": "code",
   "execution_count": 13,
   "id": "fdfa6950",
   "metadata": {},
   "outputs": [],
   "source": [
    "df['Income Stability']= df[['Income Stability','Age']].apply(impute_Stability, axis=1)"
   ]
  },
  {
   "cell_type": "markdown",
   "id": "66cddf62",
   "metadata": {},
   "source": [
    "# Plot 3"
   ]
  },
  {
   "cell_type": "code",
   "execution_count": 14,
   "id": "5c511f78",
   "metadata": {},
   "outputs": [
    {
     "data": {
      "text/plain": [
       "<AxesSubplot:xlabel='Property Location', ylabel='Property Type'>"
      ]
     },
     "execution_count": 14,
     "metadata": {},
     "output_type": "execute_result"
    },
    {
     "data": {
      "image/png": "[encoded data removed]",
      "text/plain": [
       "<Figure size 432x288 with 1 Axes>"
      ]
     },
     "metadata": {
      "needs_background": "light"
     },
     "output_type": "display_data"
    }
   ],
   "source": [
    "sns.boxplot(x='Property Location',y='Property Type',data=df)"
   ]
  },
  {
   "cell_type": "markdown",
   "id": "d1458cd7",
   "metadata": {},
   "source": [
    "# Data Cleaning 3"
   ]
  },
  {
   "cell_type": "code",
   "execution_count": 15,
   "id": "7b423da6",
   "metadata": {},
   "outputs": [],
   "source": [
    "def impute_loc(cols):\n",
    "        PropertyLocation= cols[0]\n",
    "        PropertyType= cols[1]\n",
    "        if pd.isnull(PropertyLocation):\n",
    "            if PropertyType==1:\n",
    "                return 'Urban'\n",
    "            elif PropertyType==2:\n",
    "                return 'Semi-Urban'\n",
    "            else:\n",
    "                return 'Rural'\n",
    "        else:\n",
    "            return PropertyLocation"
   ]
  },
  {
   "cell_type": "code",
   "execution_count": 16,
   "id": "e9ab7de4",
   "metadata": {},
   "outputs": [],
   "source": [
    "df['Property Location']= df[['Property Location','Property Type']].apply(impute_loc, axis=1)"
   ]
  },
  {
   "cell_type": "markdown",
   "id": "1e064983",
   "metadata": {},
   "source": [
    "# plot 4"
   ]
  },
  {
   "cell_type": "code",
   "execution_count": 17,
   "id": "835b3f21",
   "metadata": {},
   "outputs": [
    {
     "data": {
      "text/plain": [
       "<AxesSubplot:xlabel='Dependents', ylabel='Income Stability'>"
      ]
     },
     "execution_count": 17,
     "metadata": {},
     "output_type": "execute_result"
    },
    {
     "data": {
      "image/png": "[encoded data removed]",
      "text/plain": [
       "<Figure size 432x288 with 1 Axes>"
      ]
     },
     "metadata": {
      "needs_background": "light"
     },
     "output_type": "display_data"
    }
   ],
   "source": [
    "sns.boxplot(x='Dependents',y='Income Stability',data=df)"
   ]
  },
  {
   "cell_type": "markdown",
   "id": "0432381a",
   "metadata": {},
   "source": [
    "# Data Cleaning 4"
   ]
  },
  {
   "cell_type": "code",
   "execution_count": 18,
   "id": "5b1147cb",
   "metadata": {},
   "outputs": [],
   "source": [
    "def impute_dep(cols):\n",
    "        dep= cols[0]\n",
    "        stab= cols[1]\n",
    "        if pd.isnull(dep):\n",
    "            if stab=='High':\n",
    "                return 3\n",
    "            else:\n",
    "                return 4\n",
    "        else:\n",
    "            return dep"
   ]
  },
  {
   "cell_type": "code",
   "execution_count": 19,
   "id": "1ac901bb",
   "metadata": {},
   "outputs": [],
   "source": [
    "df['Dependents']= df[['Dependents','Income Stability']].apply(impute_dep, axis=1)"
   ]
  },
  {
   "cell_type": "code",
   "execution_count": 20,
   "id": "b56e8bc7",
   "metadata": {},
   "outputs": [],
   "source": [
    "df['Income (USD)'] = df['Income (USD)'].replace(to_replace=np.nan,value =df['Income (USD)'].mean())"
   ]
  },
  {
   "cell_type": "code",
   "execution_count": 21,
   "id": "a1c361bb",
   "metadata": {},
   "outputs": [],
   "source": [
    "df['Current Loan Expenses (USD)'] = df['Current Loan Expenses (USD)'].replace(to_replace=np.nan,value =df['Current Loan Expenses (USD)'].mean())"
   ]
  },
  {
   "cell_type": "code",
   "execution_count": 22,
   "id": "a16e9571",
   "metadata": {},
   "outputs": [],
   "source": [
    "df['Credit Score'] = df['Credit Score'].replace(to_replace=np.nan,value =df['Credit Score'].mean())"
   ]
  },
  {
   "cell_type": "code",
   "execution_count": 23,
   "id": "0693badb",
   "metadata": {},
   "outputs": [],
   "source": [
    "df['Loan Sanction Amount (USD)'] = df['Loan Sanction Amount (USD)'].replace(to_replace=np.nan,value =df['Loan Sanction Amount (USD)'].mean())"
   ]
  },
  {
   "cell_type": "code",
   "execution_count": null,
   "id": "0a5ba7c9",
   "metadata": {},
   "outputs": [],
   "source": []
  },
  {
   "cell_type": "code",
   "execution_count": 24,
   "id": "bb4d6f56",
   "metadata": {},
   "outputs": [],
   "source": [
    "df=df.fillna(method= 'ffill')"
   ]
  },
  {
   "cell_type": "markdown",
   "id": "dff0eeec",
   "metadata": {},
   "source": [
    "# Plot 5"
   ]
  },
  {
   "cell_type": "code",
   "execution_count": 25,
   "id": "d25a01f2",
   "metadata": {},
   "outputs": [
    {
     "data": {
      "text/plain": [
       "<AxesSubplot:>"
      ]
     },
     "execution_count": 25,
     "metadata": {},
     "output_type": "execute_result"
    },
    {
     "data": {
      "image/png": "[encoded data removed]",
      "text/plain": [
       "<Figure size 864x864 with 2 Axes>"
      ]
     },
     "metadata": {
      "needs_background": "light"
     },
     "output_type": "display_data"
    }
   ],
   "source": [
    "plt.figure(figsize = (12,12))\n",
    "sns.heatmap(df.isnull(), cmap='viridis')"
   ]
  },
  {
   "cell_type": "markdown",
   "id": "862ec2c9",
   "metadata": {},
   "source": [
    "# Plot 6"
   ]
  },
  {
   "cell_type": "code",
   "execution_count": 26,
   "id": "a9b82471",
   "metadata": {},
   "outputs": [
    {
     "data": {
      "text/plain": [
       "<AxesSubplot:xlabel='Location', ylabel='Loan Amount Request (USD)'>"
      ]
     },
     "execution_count": 26,
     "metadata": {},
     "output_type": "execute_result"
    },
    {
     "data": {
      "image/png": "[encoded data removed]",
      "text/plain": [
       "<Figure size 432x288 with 1 Axes>"
      ]
     },
     "metadata": {
      "needs_background": "light"
     },
     "output_type": "display_data"
    }
   ],
   "source": [
    "sns.barplot(x='Location',y= 'Loan Amount Request (USD)',hue='Gender',data=df)"
   ]
  },
  {
   "cell_type": "markdown",
   "id": "4b7b7599",
   "metadata": {},
   "source": [
    "# Plot 7"
   ]
  },
  {
   "cell_type": "code",
   "execution_count": 27,
   "id": "157d7b75",
   "metadata": {},
   "outputs": [
    {
     "data": {
      "text/plain": [
       "<AxesSubplot:xlabel='Profession', ylabel='Loan Amount Request (USD)'>"
      ]
     },
     "execution_count": 27,
     "metadata": {},
     "output_type": "execute_result"
    },
    {
     "data": {
      "image/png": "[encoded data removed]",
      "text/plain": [
       "<Figure size 1152x576 with 1 Axes>"
      ]
     },
     "metadata": {
      "needs_background": "light"
     },
     "output_type": "display_data"
    }
   ],
   "source": [
    "plt.figure(figsize = (16,8))\n",
    "sns.barplot(x='Profession',y='Loan Amount Request (USD)',hue='Gender',data=df)"
   ]
  },
  {
   "cell_type": "markdown",
   "id": "31806836",
   "metadata": {},
   "source": [
    "# Plot 8"
   ]
  },
  {
   "cell_type": "code",
   "execution_count": 28,
   "id": "5fd4a584",
   "metadata": {},
   "outputs": [
    {
     "data": {
      "text/plain": [
       "<seaborn.axisgrid.JointGrid at 0x2415b8426a0>"
      ]
     },
     "execution_count": 28,
     "metadata": {},
     "output_type": "execute_result"
    },
    {
     "data": {
      "image/png": "[encoded data removed]",
      "text/plain": [
       "<Figure size 432x432 with 3 Axes>"
      ]
     },
     "metadata": {
      "needs_background": "light"
     },
     "output_type": "display_data"
    }
   ],
   "source": [
    "sns.jointplot(x='Current Loan Expenses (USD)',y='Loan Amount Request (USD)',data=df)"
   ]
  },
  {
   "cell_type": "markdown",
   "id": "a19c591d",
   "metadata": {},
   "source": [
    "# Plot 9"
   ]
  },
  {
   "cell_type": "code",
   "execution_count": 29,
   "id": "7316e395",
   "metadata": {},
   "outputs": [
    {
     "data": {
      "text/plain": [
       "<seaborn.axisgrid.FacetGrid at 0x241560e1850>"
      ]
     },
     "execution_count": 29,
     "metadata": {},
     "output_type": "execute_result"
    },
    {
     "data": {
      "image/png": "[encoded data removed]",
      "text/plain": [
       "<Figure size 360x360 with 1 Axes>"
      ]
     },
     "metadata": {
      "needs_background": "light"
     },
     "output_type": "display_data"
    }
   ],
   "source": [
    "sns.displot(df['Age'])"
   ]
  },
  {
   "cell_type": "markdown",
   "id": "7594e941",
   "metadata": {},
   "source": [
    "# Plot 10"
   ]
  },
  {
   "cell_type": "code",
   "execution_count": 30,
   "id": "2552af44",
   "metadata": {},
   "outputs": [
    {
     "data": {
      "text/plain": [
       "<AxesSubplot:xlabel='Profession', ylabel='Age'>"
      ]
     },
     "execution_count": 30,
     "metadata": {},
     "output_type": "execute_result"
    },
    {
     "data": {
      "image/png": "[encoded data removed]",
      "text/plain": [
       "<Figure size 1044x324 with 1 Axes>"
      ]
     },
     "metadata": {
      "needs_background": "light"
     },
     "output_type": "display_data"
    }
   ],
   "source": [
    "plt.figure(figsize = (14.5,4.5))\n",
    "sns.boxplot(x='Profession',y='Age',data=df)"
   ]
  },
  {
   "cell_type": "markdown",
   "id": "40be5fbc",
   "metadata": {},
   "source": [
    "# Data Cleaning 5"
   ]
  },
  {
   "cell_type": "markdown",
   "id": "921ee986",
   "metadata": {},
   "source": [
    "# One-Hot Encoding"
   ]
  },
  {
   "cell_type": "code",
   "execution_count": 31,
   "id": "23a32315",
   "metadata": {},
   "outputs": [],
   "source": [
    "sex=pd.get_dummies(df['Gender'], drop_first=True)"
   ]
  },
  {
   "cell_type": "code",
   "execution_count": 32,
   "id": "9be0714b",
   "metadata": {},
   "outputs": [],
   "source": [
    "lowstability=pd.get_dummies(df['Income Stability'], drop_first=True)"
   ]
  },
  {
   "cell_type": "code",
   "execution_count": 33,
   "id": "769d9c8c",
   "metadata": {},
   "outputs": [],
   "source": [
    "df=pd.concat([df,sex,lowstability], axis=1)"
   ]
  },
  {
   "cell_type": "markdown",
   "id": "6eab84ee",
   "metadata": {},
   "source": [
    "# Label Encoding"
   ]
  },
  {
   "cell_type": "code",
   "execution_count": 34,
   "id": "871cad22",
   "metadata": {},
   "outputs": [],
   "source": [
    "from sklearn.preprocessing import LabelEncoder\n",
    "l= LabelEncoder()"
   ]
  },
  {
   "cell_type": "code",
   "execution_count": 35,
   "id": "2f026a4f",
   "metadata": {},
   "outputs": [],
   "source": [
    "df['Professions']=l.fit_transform(df['Profession'])"
   ]
  },
  {
   "cell_type": "code",
   "execution_count": 36,
   "id": "1ffb509d",
   "metadata": {},
   "outputs": [],
   "source": [
    "df['creditcard']=l.fit_transform(df['Has Active Credit Card'])"
   ]
  },
  {
   "cell_type": "code",
   "execution_count": 37,
   "id": "65a05c61",
   "metadata": {},
   "outputs": [],
   "source": [
    "df['emptype']=l.fit_transform(df['Type of Employment'])"
   ]
  },
  {
   "cell_type": "code",
   "execution_count": 38,
   "id": "26ee5c25",
   "metadata": {},
   "outputs": [],
   "source": [
    "df.drop(['Gender','Income Stability','Profession','Location','Has Active Credit Card','Property Location','Type of Employment'], axis=1, inplace=True)"
   ]
  },
  {
   "cell_type": "code",
   "execution_count": 39,
   "id": "aca47f71",
   "metadata": {},
   "outputs": [
    {
     "data": {
      "text/plain": [
       "0"
      ]
     },
     "execution_count": 39,
     "metadata": {},
     "output_type": "execute_result"
    }
   ],
   "source": [
    "df.isnull().sum().sum()                             #Total number of null values in df after cleaning."
   ]
  },
  {
   "cell_type": "markdown",
   "id": "dda04866",
   "metadata": {},
   "source": [
    "# ML Algorithms"
   ]
  },
  {
   "cell_type": "markdown",
   "id": "dcd61b71",
   "metadata": {},
   "source": [
    "# Linear Regression Model"
   ]
  },
  {
   "cell_type": "code",
   "execution_count": 40,
   "id": "bcc51460",
   "metadata": {},
   "outputs": [
    {
     "name": "stdout",
     "output_type": "stream",
     "text": [
      "R2_Score:  0.6442\n"
     ]
    }
   ],
   "source": [
    "from sklearn.model_selection import train_test_split\n",
    "X_train, X_test, y_train, y_test = train_test_split(df.drop('Loan Sanction Amount (USD)',axis=1), \n",
    "                                                    df['Loan Sanction Amount (USD)'], test_size=0.2, random_state=62)\n",
    "from sklearn.linear_model import LinearRegression\n",
    "from sklearn.metrics import r2_score\n",
    "lm = LinearRegression()\n",
    "lm.fit(X_train,y_train)\n",
    "pred1 = lm.predict( X_test)\n",
    "score = r2_score(y_test,pred1)\n",
    "print(\"R2_Score: \",np.round(score,decimals=4))"
   ]
  },
  {
   "cell_type": "markdown",
   "id": "838c5918",
   "metadata": {},
   "source": [
    "# Decision Tree Regression Model"
   ]
  },
  {
   "cell_type": "code",
   "execution_count": 41,
   "id": "31610bc3",
   "metadata": {},
   "outputs": [
    {
     "name": "stdout",
     "output_type": "stream",
     "text": [
      "R2_Score:  0.5016\n"
     ]
    }
   ],
   "source": [
    "from sklearn import tree\n",
    "clf = tree.DecisionTreeRegressor()\n",
    "clf.fit(X_train, y_train)\n",
    "pred2 = clf.predict(X_test)\n",
    "score = r2_score(y_test,pred2)\n",
    "print(\"R2_Score: \",np.round(score,decimals=4))"
   ]
  },
  {
   "cell_type": "markdown",
   "id": "031374af",
   "metadata": {},
   "source": [
    "# Support Vector Regression Model"
   ]
  },
  {
   "cell_type": "code",
   "execution_count": 42,
   "id": "7ab0ae54",
   "metadata": {},
   "outputs": [
    {
     "name": "stdout",
     "output_type": "stream",
     "text": [
      "R2_Score:  0.4402\n"
     ]
    }
   ],
   "source": [
    "from sklearn.svm import SVR\n",
    "model = SVR(C=1000.0)\n",
    "model.fit(X_train,y_train)\n",
    "pred3 = model.predict(X_test)\n",
    "score =r2_score(y_test,pred3)\n",
    "print(\"R2_Score: \",np.round(score,decimals=4))"
   ]
  },
  {
   "cell_type": "markdown",
   "id": "9877be05",
   "metadata": {},
   "source": [
    "# Random Forest Regression Model"
   ]
  },
  {
   "cell_type": "code",
   "execution_count": 43,
   "id": "0ea8d297",
   "metadata": {},
   "outputs": [
    {
     "name": "stdout",
     "output_type": "stream",
     "text": [
      "R2_Score:  0.7461\n"
     ]
    }
   ],
   "source": [
    "from sklearn.ensemble import RandomForestRegressor\n",
    "rfr = RandomForestRegressor()\n",
    "rfr.fit(X_train,y_train)\n",
    "pred_rf = rfr.predict(X_test)\n",
    "score = r2_score(y_test,pred_rf)\n",
    "print(\"R2_Score: \",np.round(score,decimals=4))"
   ]
  },
  {
   "cell_type": "markdown",
   "id": "66782ce5",
   "metadata": {},
   "source": [
    "# Bayesian Regression Model"
   ]
  },
  {
   "cell_type": "code",
   "execution_count": 44,
   "id": "3e94947e",
   "metadata": {},
   "outputs": [
    {
     "name": "stdout",
     "output_type": "stream",
     "text": [
      "R2_Score:  0.6442\n"
     ]
    }
   ],
   "source": [
    "from sklearn import linear_model\n",
    "reg = linear_model.BayesianRidge()\n",
    "reg.fit(X_train, y_train)\n",
    "predic = reg.predict(X_test)\n",
    "score = r2_score(y_test,predic)\n",
    "print(\"R2_Score: \",np.round(score,decimals=4))"
   ]
  },
  {
   "cell_type": "code",
   "execution_count": null,
   "id": "59769b57",
   "metadata": {},
   "outputs": [],
   "source": []
  }
 ],
 "metadata": {
  "kernelspec": {
   "display_name": "Python 3 (ipykernel)",
   "language": "python",
   "name": "python3"
  },
  "language_info": {
   "codemirror_mode": {
    "name": "ipython",
    "version": 3
   },
   "file_extension": ".py",
   "mimetype": "text/x-python",
   "name": "python",
   "nbconvert_exporter": "python",
   "pygments_lexer": "ipython3",
   "version": "3.9.12"
  }
 },
 "nbformat": 4,
 "nbformat_minor": 5
}
